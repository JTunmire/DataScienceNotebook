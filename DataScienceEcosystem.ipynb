{
 "cells": [
  {
   "cell_type": "code",
   "execution_count": null,
   "id": "c979c741-e183-4281-b44f-c4c6963d9093",
   "metadata": {
    "tags": []
   },
   "outputs": [],
   "source": [
    "# Data Science Tools and Ecosystem"
   ]
  },
  {
   "cell_type": "code",
   "execution_count": null,
   "id": "2689cbdc-8f4e-4b1b-a7e3-feed55eef2f6",
   "metadata": {
    "tags": []
   },
   "outputs": [],
   "source": [
    "### Introduction\n",
    "In this notebook, Data Science and Ecosystem will be summarized."
   ]
  },
  {
   "cell_type": "code",
   "execution_count": null,
   "id": "ef23b186-14ee-4620-a3ae-d4241f9387ee",
   "metadata": {
    "tags": []
   },
   "outputs": [],
   "source": [
    "# Data Science Tools and Ecosystem"
   ]
  },
  {
   "cell_type": "code",
   "execution_count": null,
   "id": "85017714-17fb-443f-b823-7483a322219e",
   "metadata": {
    "tags": []
   },
   "outputs": [],
   "source": [
    "Some of the popular languages Data Scientists use are:\n",
    "    1. Python\n",
    "    2. R\n",
    "    3. SQL\n",
    "    4. Julia\n",
    "    5. Java\n",
    "    6. Matlab\n",
    "    7. C++\n",
    "    8. C"
   ]
  },
  {
   "cell_type": "code",
   "execution_count": null,
   "id": "1824cc6a-558e-4708-b68e-91f5078e4850",
   "metadata": {},
   "outputs": [],
   "source": [
    "#### Some of the commonly used libraries by Dta Scientists are:\n",
    "\n",
    "    1. Numpy\n",
    "    2. Pandas\n",
    "    3. Matplot\n"
   ]
  },
  {
   "cell_type": "code",
   "execution_count": null,
   "id": "9f06e3a5-dfa2-43b2-b42d-54080c1771a9",
   "metadata": {},
   "outputs": [],
   "source": [
    "|Data Science Tools|\n",
    "|------------------|\n",
    "|Jupyter|\n",
    "|RStudio|\n",
    "|Spyder|\n",
    "\n"
   ]
  },
  {
   "cell_type": "code",
   "execution_count": null,
   "id": "1aec8b7f-5416-4ff3-8694-c6b7b8d31ba2",
   "metadata": {},
   "outputs": [],
   "source": [
    "### Below are a few examples of evaluating arithmetic expressions in Python\n"
   ]
  },
  {
   "cell_type": "code",
   "execution_count": 1,
   "id": "24ae0054-4c6a-4496-9555-871187bea321",
   "metadata": {
    "tags": []
   },
   "outputs": [
    {
     "data": {
      "text/plain": [
       "17"
      ]
     },
     "execution_count": 1,
     "metadata": {},
     "output_type": "execute_result"
    }
   ],
   "source": [
    "(3*4)+5"
   ]
  },
  {
   "cell_type": "code",
   "execution_count": 3,
   "id": "43695562-2aba-40bf-ae33-569d020e11f5",
   "metadata": {
    "tags": []
   },
   "outputs": [
    {
     "data": {
      "text/plain": [
       "3.3333333333333335"
      ]
     },
     "execution_count": 3,
     "metadata": {},
     "output_type": "execute_result"
    }
   ],
   "source": [
    "#This will convert 200 minutes to hours\n",
    "\n",
    "200/60"
   ]
  },
  {
   "cell_type": "code",
   "execution_count": null,
   "id": "ca2c0fdb-3f74-4609-b4b6-205ea8ef5ae7",
   "metadata": {},
   "outputs": [],
   "source": [
    "**Objectives**"
   ]
  },
  {
   "cell_type": "code",
   "execution_count": null,
   "id": "f99ddf75-07d7-40ad-b547-11df457c6b23",
   "metadata": {},
   "outputs": [],
   "source": [
    "Popular languages used in Data Science:\n",
    "    \n",
    "    *Python\n",
    "    *R\n",
    "    *SQL"
   ]
  },
  {
   "cell_type": "code",
   "execution_count": null,
   "id": "ee67eed6-a5a3-4747-9215-9ec8312bacb2",
   "metadata": {},
   "outputs": [],
   "source": [
    "## AUTHOR\n",
    "John Tunmire"
   ]
  }
 ],
 "metadata": {
  "kernelspec": {
   "display_name": "Python",
   "language": "python",
   "name": "conda-env-python-py"
  },
  "language_info": {
   "codemirror_mode": {
    "name": "ipython",
    "version": 3
   },
   "file_extension": ".py",
   "mimetype": "text/x-python",
   "name": "python",
   "nbconvert_exporter": "python",
   "pygments_lexer": "ipython3",
   "version": "3.7.12"
  }
 },
 "nbformat": 4,
 "nbformat_minor": 5
}
